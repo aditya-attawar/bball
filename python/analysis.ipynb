{
 "cells": [
  {
   "cell_type": "code",
   "execution_count": 24,
   "metadata": {},
   "outputs": [],
   "source": [
    "import gym\n",
    "import os\n",
    "import matplotlib.pyplot as plt\n",
    "import numpy as np\n",
    "import torch\n",
    "import time\n",
    "import json\n",
    "from numpy import pi\n",
    "import pickle\n",
    "import matlab\n",
    "\n",
    "from seagul.plot import smooth_bounded_curve\n",
    "from bball3_env import BBall3Env\n",
    "from bball3_mj_env import BBall3MJEnv\n",
    "from bball3_pb_env import BBall3PBEnv\n",
    "\n",
    "from stable_baselines import PPO2 as ALGO\n",
    "from stable_baselines.results_plotter import load_results\n",
    "\n",
    "import pybullet as p\n",
    "\n",
    "def do_rollout_stable(init_point=None, render=False, video=False):\n",
    "    #env = gym.make(env_name)\n",
    "    env = gym.make(env_name, **env_config)\n",
    "    #env = BBall3Env(**env_config)\n",
    "    #env = BBall3MJEnv()\n",
    "    #env = BBall3PBEnv()\n",
    "\n",
    "    obs = env.reset()\n",
    "\n",
    "    obs = torch.as_tensor(obs, dtype=torch.float32)\n",
    "\n",
    "    acts_list = []\n",
    "    obs1_list = []\n",
    "    rews_list = []\n",
    "\n",
    "    dtype = torch.float32\n",
    "    act_size = env.action_space.shape[0]\n",
    "    obs_size = env.observation_space.shape[0]\n",
    "\n",
    "    done = False\n",
    "    cur_step = 0\n",
    "\n",
    "    while not done:\n",
    "        acts = model.predict(obs)[0]\n",
    "        obs, rew, done, out = env.step(acts)\n",
    "          \n",
    "            \n",
    "        if render:\n",
    "            env.render()\n",
    "            time.sleep(.01)\n",
    "        obs1_list.append(obs)\n",
    "        obs = torch.as_tensor(obs, dtype=dtype)\n",
    "\n",
    "        acts_list.append(torch.as_tensor(acts))\n",
    "        rews_list.append(torch.as_tensor(rew, dtype=dtype))\n",
    "        cur_step += 1\n",
    "\n",
    "        \n",
    "    print(f\"done:{done}\")\n",
    "    \n",
    "    ep_obs1 = torch.tensor(obs1_list)\n",
    "    ep_acts = torch.stack(acts_list)\n",
    "    ep_rews = torch.stack(rews_list)\n",
    "    \n",
    "    env.close()\n",
    "\n",
    "    return ep_obs1, ep_acts, ep_rews"
   ]
  },
  {
   "cell_type": "code",
   "execution_count": 18,
   "metadata": {},
   "outputs": [
    {
     "name": "stdout",
     "output_type": "stream",
     "text": [
      "Loading a model without an environment, this model cannot be trained until it has a valid environment.\n",
      "Loading a model without an environment, this model cannot be trained until it has a valid environment.\n",
      "Loading a model without an environment, this model cannot be trained until it has a valid environment.\n",
      "Loading a model without an environment, this model cannot be trained until it has a valid environment.\n"
     ]
    },
    {
     "data": {
      "text/plain": [
       "<Figure size 432x288 with 0 Axes>"
      ]
     },
     "execution_count": 18,
     "metadata": {},
     "output_type": "execute_result"
    },
    {
     "data": {
      "image/png": "[encoded data removed]",
      "text/plain": [
       "<Figure size 432x288 with 1 Axes>"
      ]
     },
     "metadata": {
      "needs_background": "light"
     },
     "output_type": "display_data"
    },
    {
     "data": {
      "text/plain": [
       "<Figure size 432x288 with 0 Axes>"
      ]
     },
     "metadata": {},
     "output_type": "display_data"
    },
    {
     "data": {
      "text/plain": [
       "<Figure size 432x288 with 0 Axes>"
      ]
     },
     "metadata": {},
     "output_type": "display_data"
    },
    {
     "data": {
      "text/plain": [
       "<Figure size 432x288 with 0 Axes>"
      ]
     },
     "metadata": {},
     "output_type": "display_data"
    },
    {
     "data": {
      "text/plain": [
       "<Figure size 432x288 with 0 Axes>"
      ]
     },
     "metadata": {},
     "output_type": "display_data"
    },
    {
     "data": {
      "text/plain": [
       "<Figure size 432x288 with 0 Axes>"
      ]
     },
     "metadata": {},
     "output_type": "display_data"
    }
   ],
   "source": [
    "# %%\n",
    "fig, ax = plt.subplots(1,1)\n",
    "\n",
    "#log_dir = script_path + './walker_log'\n",
    "df_list = []\n",
    "model_list = []\n",
    "min_length = float('inf')\n",
    "\n",
    "\n",
    "#env_name = \"bball3_pb-v0\"\n",
    "#p.connect(p.GUI)\n",
    "#trial_path = \"/home/sgillen/work/bball/python/data_ppo/t12\"\n",
    "#trial_path = \"/home/sgillen/work/bball/python/data_ppo/pb_strong0\"\n",
    "\n",
    "\n",
    "#env_name = \"bball3_mj-v0\"\n",
    "#trial_path = \"/home/sgillen/work/bball/python/data_ppo/mj_apen2\" # seed 0 bounces good\n",
    "\n",
    "# matlab\n",
    "env_name = \"bball3-v1\"\n",
    "#trial_path = \"/home/sgillen/work/bball/python/data_ppo_wc/y_less_tall1\"\n",
    "#trial_path = \"/home/sgillen/work/bball/python/data_ppo_wc/small_ypen\"\n",
    "#trial_path = \"/home/sgillen/work/bball/data_ppo_wc/t2/\"  # another balance, y rewards. \n",
    "#trial_path = \"/home/sgillen/work/bball/data_ppo_wc/no_xpen/\"  # another balance, y rewards. \n",
    "#trial_path = \"/home/sgillen/work/bball/data_ppo_wc/0/\"  # another balance, x an y rewards. \n",
    "#trial_path = \"/home/sgillen/work/bball/data_ppo_nc/long_100\"   # No y reward\n",
    "trial_path = \"/home/sgillen/work/bball/python/data_ppo_c2/000\"   # No y reward\n",
    "\n",
    "\n",
    "\n",
    "def reward_fn(state, action):\n",
    "    xpen = np.clip(-(state[3] - .15)**2, -1, 0)\n",
    "    #xpen = 0.0\n",
    "\n",
    "    ypen = np.clip(-(state[4] - 1.2)**2, -4, 0)\n",
    "    #ypen = 0.0\n",
    "\n",
    "    alive = 5.0\n",
    "    return xpen + ypen + alive\n",
    "  #  return -(state[4] - 1)**2 + alive\n",
    "\n",
    "\n",
    "for entry in os.scandir(trial_path):\n",
    "    if \".ipynb\" in entry.path:\n",
    "        continue\n",
    "    if \"config\" in entry.path:\n",
    "        env_config = pickle.load(open(entry.path, 'rb'))\n",
    "        continue\n",
    "    \n",
    "    df = load_results(entry.path)\n",
    "\n",
    "\n",
    "    if len(df['r']) < min_length:\n",
    "        min_length = len(df['r'])\n",
    "\n",
    "    #plt.plot(df['r'])\n",
    "    plt.figure()\n",
    "    df_list.append(df)\n",
    "    model_list.append(ALGO.load(entry.path + \"/model.zip\"))\n",
    "\n",
    "min_length = int(min_length)\n",
    "rewards = np.zeros((min_length, len(df_list)))\n",
    "\n",
    "for i, df in enumerate(df_list):\n",
    "    rewards[:, i] = np.array(df['r'][:min_length])\n",
    "\n",
    "smooth_bounded_curve(rewards[:min_length], ax=ax)\n",
    "#ax.set_ylim(0,200)\n",
    " \n",
    "ax.grid()\n",
    "ax.ticklabel_format(axis='x', style='sci', scilimits=(0,0))\n",
    "#fig.savefig(script_path + '../figs/reward.png')\n",
    "plt.figure()\n",
    "\n",
    "#env = BBall3Env(**env_config)\n",
    "#p.connect(p.GUI)\n",
    "\n"
   ]
  },
  {
   "cell_type": "code",
   "execution_count": 29,
   "metadata": {},
   "outputs": [
    {
     "data": {
      "image/png": "[encoded data removed]",
      "text/plain": [
       "<Figure size 432x288 with 1 Axes>"
      ]
     },
     "metadata": {
      "needs_background": "light"
     },
     "output_type": "display_data"
    },
    {
     "name": "stderr",
     "output_type": "stream",
     "text": [
      "/home/sgillen/miniconda3/envs/matlab/lib/python3.6/site-packages/gym/logger.py:30: UserWarning: \u001b[33mWARN: Box bound precision lowered by casting to float32\u001b[0m\n",
      "  warnings.warn(colorize('%s: %s'%('WARN', msg % args), 'yellow'))\n"
     ]
    },
    {
     "name": "stdout",
     "output_type": "stream",
     "text": [
      "contact!\n",
      "contact!\n",
      "contact!\n",
      "contact!\n",
      "contact!\n",
      "contact!\n",
      "contact!\n",
      "Impact miss, total for this env: 1\n",
      "contact!\n",
      "Impact miss, total for this env: 2\n",
      "contact!\n",
      "contact!\n",
      "Impact miss, total for this env: 3\n",
      "contact!\n",
      "Impact miss, total for this env: 4\n",
      "contact!\n",
      "contact!\n",
      "contact!\n",
      "contact!\n",
      "contact!\n",
      "contact!\n",
      "contact!\n",
      "contact!\n",
      "contact!\n",
      "contact!\n",
      "contact!\n",
      "contact!\n",
      "contact!\n",
      "contact!\n",
      "contact!\n",
      "contact!\n",
      "contact!\n",
      "contact!\n",
      "contact!\n",
      "contact!\n",
      "contact!\n",
      "contact!\n",
      "contact!\n",
      "contact!\n",
      "contact!\n",
      "contact!\n",
      "contact!\n",
      "contact!\n",
      "contact!\n",
      "contact!\n",
      "contact!\n",
      "contact!\n",
      "contact!\n",
      "contact!\n",
      "contact!\n",
      "contact!\n",
      "contact!\n",
      "contact!\n",
      "contact!\n",
      "contact!\n",
      "contact!\n",
      "contact!\n",
      "contact!\n",
      "contact!\n",
      "contact!\n",
      "contact!\n",
      "contact!\n",
      "contact!\n",
      "contact!\n",
      "contact!\n",
      "contact!\n",
      "contact!\n",
      "contact!\n",
      "contact!\n",
      "contact!\n",
      "contact!\n",
      "contact!\n",
      "contact!\n",
      "contact!\n",
      "contact!\n",
      "contact!\n",
      "contact!\n",
      "contact!\n",
      "contact!\n",
      "contact!\n",
      "contact!\n",
      "contact!\n",
      "contact!\n",
      "contact!\n",
      "contact!\n",
      "contact!\n",
      "contact!\n",
      "contact!\n",
      "contact!\n",
      "contact!\n",
      "contact!\n",
      "contact!\n",
      "contact!\n",
      "contact!\n",
      "contact!\n",
      "contact!\n",
      "contact!\n",
      "contact!\n",
      "contact!\n",
      "contact!\n",
      "contact!\n",
      "contact!\n",
      "contact!\n",
      "contact!\n",
      "contact!\n",
      "contact!\n",
      "contact!\n",
      "contact!\n",
      "contact!\n",
      "contact!\n",
      "contact!\n",
      "contact!\n",
      "contact!\n",
      "contact!\n",
      "contact!\n",
      "contact!\n",
      "contact!\n",
      "contact!\n",
      "contact!\n",
      "contact!\n",
      "contact!\n",
      "contact!\n",
      "contact!\n",
      "contact!\n",
      "contact!\n",
      "contact!\n",
      "contact!\n",
      "contact!\n",
      "contact!\n",
      "contact!\n",
      "contact!\n",
      "contact!\n",
      "contact!\n",
      "contact!\n",
      "contact!\n",
      "contact!\n",
      "contact!\n",
      "contact!\n",
      "contact!\n",
      "contact!\n",
      "contact!\n",
      "contact!\n",
      "contact!\n",
      "contact!\n",
      "contact!\n",
      "contact!\n",
      "contact!\n",
      "contact!\n",
      "contact!\n",
      "contact!\n",
      "contact!\n",
      "contact!\n",
      "contact!\n",
      "contact!\n",
      "contact!\n",
      "contact!\n",
      "contact!\n",
      "contact!\n",
      "contact!\n",
      "contact!\n",
      "contact!\n",
      "contact!\n",
      "contact!\n",
      "contact!\n",
      "contact!\n",
      "contact!\n",
      "contact!\n",
      "contact!\n",
      "contact!\n",
      "contact!\n",
      "contact!\n",
      "contact!\n",
      "contact!\n",
      "contact!\n",
      "contact!\n",
      "contact!\n",
      "contact!\n",
      "contact!\n",
      "contact!\n",
      "contact!\n",
      "contact!\n",
      "contact!\n",
      "contact!\n",
      "contact!\n",
      "contact!\n",
      "contact!\n",
      "contact!\n",
      "contact!\n",
      "contact!\n",
      "contact!\n",
      "contact!\n",
      "contact!\n",
      "contact!\n",
      "contact!\n",
      "contact!\n",
      "contact!\n",
      "contact!\n",
      "contact!\n",
      "contact!\n",
      "contact!\n",
      "contact!\n",
      "contact!\n",
      "contact!\n",
      "contact!\n",
      "contact!\n",
      "contact!\n",
      "contact!\n",
      "contact!\n",
      "contact!\n",
      "contact!\n",
      "contact!\n",
      "contact!\n",
      "contact!\n",
      "contact!\n",
      "contact!\n",
      "contact!\n",
      "contact!\n",
      "contact!\n",
      "contact!\n",
      "contact!\n",
      "contact!\n",
      "contact!\n",
      "contact!\n",
      "contact!\n",
      "contact!\n",
      "contact!\n",
      "contact!\n",
      "contact!\n",
      "contact!\n",
      "contact!\n",
      "contact!\n",
      "contact!\n",
      "contact!\n",
      "contact!\n",
      "contact!\n",
      "contact!\n",
      "contact!\n",
      "contact!\n",
      "contact!\n",
      "contact!\n",
      "contact!\n",
      "contact!\n",
      "contact!\n",
      "contact!\n",
      "contact!\n",
      "contact!\n",
      "contact!\n",
      "contact!\n",
      "contact!\n",
      "contact!\n",
      "contact!\n",
      "contact!\n",
      "contact!\n",
      "contact!\n",
      "contact!\n",
      "contact!\n",
      "contact!\n",
      "contact!\n",
      "contact!\n",
      "contact!\n",
      "contact!\n",
      "contact!\n",
      "contact!\n",
      "contact!\n",
      "contact!\n",
      "contact!\n",
      "contact!\n",
      "contact!\n",
      "contact!\n",
      "contact!\n",
      "contact!\n",
      "contact!\n",
      "contact!\n",
      "contact!\n",
      "contact!\n",
      "contact!\n",
      "contact!\n",
      "contact!\n",
      "contact!\n",
      "contact!\n",
      "contact!\n",
      "contact!\n",
      "contact!\n",
      "contact!\n",
      "contact!\n",
      "contact!\n",
      "contact!\n",
      "contact!\n",
      "contact!\n",
      "contact!\n",
      "contact!\n",
      "contact!\n",
      "contact!\n",
      "contact!\n",
      "contact!\n",
      "contact!\n",
      "contact!\n",
      "contact!\n",
      "contact!\n",
      "contact!\n",
      "contact!\n",
      "contact!\n",
      "contact!\n",
      "contact!\n",
      "contact!\n",
      "contact!\n",
      "contact!\n",
      "contact!\n",
      "contact!\n",
      "contact!\n",
      "contact!\n",
      "contact!\n",
      "contact!\n",
      "contact!\n",
      "contact!\n",
      "contact!\n",
      "contact!\n",
      "contact!\n",
      "contact!\n",
      "contact!\n",
      "contact!\n",
      "contact!\n",
      "contact!\n",
      "contact!\n",
      "contact!\n",
      "contact!\n",
      "contact!\n",
      "contact!\n",
      "contact!\n",
      "contact!\n",
      "contact!\n",
      "contact!\n",
      "contact!\n",
      "contact!\n",
      "contact!\n",
      "contact!\n",
      "contact!\n",
      "contact!\n",
      "contact!\n",
      "contact!\n",
      "contact!\n",
      "contact!\n",
      "contact!\n",
      "contact!\n",
      "contact!\n",
      "contact!\n",
      "contact!\n",
      "contact!\n",
      "contact!\n",
      "contact!\n",
      "contact!\n",
      "contact!\n",
      "contact!\n",
      "contact!\n",
      "contact!\n",
      "contact!\n",
      "contact!\n",
      "contact!\n",
      "contact!\n",
      "contact!\n",
      "contact!\n",
      "contact!\n",
      "contact!\n",
      "contact!\n",
      "contact!\n",
      "contact!\n",
      "contact!\n",
      "contact!\n",
      "contact!\n",
      "contact!\n",
      "contact!\n",
      "contact!\n",
      "contact!\n",
      "contact!\n",
      "contact!\n",
      "contact!\n",
      "contact!\n",
      "contact!\n",
      "contact!\n",
      "contact!\n",
      "contact!\n",
      "contact!\n",
      "contact!\n",
      "contact!\n",
      "contact!\n",
      "contact!\n",
      "contact!\n",
      "contact!\n",
      "contact!\n",
      "contact!\n",
      "contact!\n",
      "contact!\n",
      "contact!\n",
      "contact!\n",
      "contact!\n",
      "contact!\n",
      "contact!\n",
      "contact!\n",
      "contact!\n",
      "contact!\n",
      "done:True\n",
      "reward sum: 2361.097412109375\n"
     ]
    },
    {
     "data": {
      "image/png": "[encoded data removed]",
      "text/plain": [
       "<Figure size 432x288 with 1 Axes>"
      ]
     },
     "metadata": {
      "needs_background": "light"
     },
     "output_type": "display_data"
    },
    {
     "data": {
      "image/png": "[encoded data removed]",
      "text/plain": [
       "<Figure size 432x288 with 1 Axes>"
      ]
     },
     "metadata": {
      "needs_background": "light"
     },
     "output_type": "display_data"
    }
   ],
   "source": [
    "trial_num = 0\n",
    "\n",
    "model = model_list[trial_num]\n",
    "df = df_list[trial_num]\n",
    " \n",
    "plt.plot(df['r']); plt.show()\n",
    "\n",
    "obs_hist, act_hist, rew_hist = do_rollout_stable(render=False)\n",
    "\n",
    "\n",
    "print(f\"reward sum: {sum(rew_hist)}\")\n",
    "\n",
    "plt.step([i for i in range(act_hist.shape[0])], act_hist, 'k')\n",
    "plt.title('Actions')\n",
    "plt.xlabel('Time (seconds)')\n",
    "plt.ylabel('Torque (Nm)')\n",
    "plt.grid()\n",
    "#plt.savefig(script_path + '../figs/act_hist.png')\n",
    "plt.show(); plt.figure()\n",
    "\n",
    "plt.plot(obs_hist)\n",
    "\n",
    "plt.title('States')\n",
    "plt.xlabel('Time ticks')\n",
    "plt.ylabel('States (mixed units)')\n",
    "plt.grid()\n",
    "#plt.savefig(script_path + '../figs/obs_hist.png')\n",
    "plt.show()"
   ]
  },
  {
   "cell_type": "code",
   "execution_count": 32,
   "metadata": {},
   "outputs": [
    {
     "name": "stdin",
     "output_type": "stream",
     "text": [
      "Ready? y\n"
     ]
    }
   ],
   "source": [
    "env = gym.make(env_name, **env_config)\n",
    "env.eng.clf()\n",
    "obs_list = []\n",
    "for obs in obs_hist:\n",
    "    obs_list.append(obs.tolist())\n",
    "import matlab\n",
    "\n",
    "input(\"Ready?\")\n",
    "tout = matlab.single([float(i) for i in range(obs_hist.shape[0])])\n",
    "env.animate(tout,matlab.single(obs_list))"
   ]
  },
  {
   "cell_type": "code",
   "execution_count": 22,
   "metadata": {},
   "outputs": [
    {
     "name": "stdout",
     "output_type": "stream",
     "text": [
      "tensor(394.4781)\n"
     ]
    }
   ],
   "source": [
    "print(sum(rew_hist))"
   ]
  },
  {
   "cell_type": "code",
   "execution_count": 13,
   "metadata": {},
   "outputs": [
    {
     "data": {
      "text/plain": [
       "[<matplotlib.lines.Line2D at 0x7f374471eb00>]"
      ]
     },
     "execution_count": 13,
     "metadata": {},
     "output_type": "execute_result"
    },
    {
     "data": {
      "image/png": "[encoded data removed]",
      "text/plain": [
       "<Figure size 432x288 with 1 Axes>"
      ]
     },
     "metadata": {
      "needs_background": "light"
     },
     "output_type": "display_data"
    }
   ],
   "source": [
    "plt.plot(obs_hist[:,3])"
   ]
  },
  {
   "cell_type": "code",
   "execution_count": 14,
   "metadata": {},
   "outputs": [
    {
     "data": {
      "text/plain": [
       "[<matplotlib.lines.Line2D at 0x7f37602b9978>]"
      ]
     },
     "execution_count": 14,
     "metadata": {},
     "output_type": "execute_result"
    },
    {
     "data": {
      "image/png": "[encoded data removed]",
      "text/plain": [
       "<Figure size 432x288 with 1 Axes>"
      ]
     },
     "metadata": {
      "needs_background": "light"
     },
     "output_type": "display_data"
    }
   ],
   "source": [
    "plt.plot(obs_hist[:,4])"
   ]
  },
  {
   "cell_type": "code",
   "execution_count": null,
   "metadata": {},
   "outputs": [],
   "source": [
    "l = .3\n",
    "plt.plot(l*np.sin(obs_hist[:,0]) + l*np.sin(obs_hist[:,1] + obs_hist[:,0]) + l*np.sin(obs_hist[:,2] + obs_hist[:,1] + obs_hist[:,0]))"
   ]
  },
  {
   "cell_type": "code",
   "execution_count": null,
   "metadata": {},
   "outputs": [],
   "source": [
    "l = .3\n",
    "plt.plot(l*np.cos(obs_hist[:,0]) + l*np.cos(obs_hist[:,1] + obs_hist[:,0]) + l*np.cos(obs_hist[:,2] + obs_hist[:,1] + obs_hist[:,0]))"
   ]
  },
  {
   "cell_type": "code",
   "execution_count": 30,
   "metadata": {},
   "outputs": [
    {
     "ename": "KeyboardInterrupt",
     "evalue": "",
     "output_type": "error",
     "traceback": [
      "\u001b[0;31m---------------------------------------------------------------------------\u001b[0m",
      "\u001b[0;31mKeyboardInterrupt\u001b[0m                         Traceback (most recent call last)",
      "\u001b[0;32m~/miniconda3/envs/matlab/lib/python3.6/site-packages/ipykernel/kernelbase.py\u001b[0m in \u001b[0;36m_input_request\u001b[0;34m(self, prompt, ident, parent, password)\u001b[0m\n\u001b[1;32m    883\u001b[0m             \u001b[0;32mtry\u001b[0m\u001b[0;34m:\u001b[0m\u001b[0;34m\u001b[0m\u001b[0;34m\u001b[0m\u001b[0m\n\u001b[0;32m--> 884\u001b[0;31m                 \u001b[0mident\u001b[0m\u001b[0;34m,\u001b[0m \u001b[0mreply\u001b[0m \u001b[0;34m=\u001b[0m \u001b[0mself\u001b[0m\u001b[0;34m.\u001b[0m\u001b[0msession\u001b[0m\u001b[0;34m.\u001b[0m\u001b[0mrecv\u001b[0m\u001b[0;34m(\u001b[0m\u001b[0mself\u001b[0m\u001b[0;34m.\u001b[0m\u001b[0mstdin_socket\u001b[0m\u001b[0;34m,\u001b[0m \u001b[0;36m0\u001b[0m\u001b[0;34m)\u001b[0m\u001b[0;34m\u001b[0m\u001b[0;34m\u001b[0m\u001b[0m\n\u001b[0m\u001b[1;32m    885\u001b[0m             \u001b[0;32mexcept\u001b[0m \u001b[0mException\u001b[0m\u001b[0;34m:\u001b[0m\u001b[0;34m\u001b[0m\u001b[0;34m\u001b[0m\u001b[0m\n",
      "\u001b[0;32m~/miniconda3/envs/matlab/lib/python3.6/site-packages/jupyter_client/session.py\u001b[0m in \u001b[0;36mrecv\u001b[0;34m(self, socket, mode, content, copy)\u001b[0m\n\u001b[1;32m    812\u001b[0m         \u001b[0;32mtry\u001b[0m\u001b[0;34m:\u001b[0m\u001b[0;34m\u001b[0m\u001b[0;34m\u001b[0m\u001b[0m\n\u001b[0;32m--> 813\u001b[0;31m             \u001b[0mmsg_list\u001b[0m \u001b[0;34m=\u001b[0m \u001b[0msocket\u001b[0m\u001b[0;34m.\u001b[0m\u001b[0mrecv_multipart\u001b[0m\u001b[0;34m(\u001b[0m\u001b[0mmode\u001b[0m\u001b[0;34m,\u001b[0m \u001b[0mcopy\u001b[0m\u001b[0;34m=\u001b[0m\u001b[0mcopy\u001b[0m\u001b[0;34m)\u001b[0m\u001b[0;34m\u001b[0m\u001b[0;34m\u001b[0m\u001b[0m\n\u001b[0m\u001b[1;32m    814\u001b[0m         \u001b[0;32mexcept\u001b[0m \u001b[0mzmq\u001b[0m\u001b[0;34m.\u001b[0m\u001b[0mZMQError\u001b[0m \u001b[0;32mas\u001b[0m \u001b[0me\u001b[0m\u001b[0;34m:\u001b[0m\u001b[0;34m\u001b[0m\u001b[0;34m\u001b[0m\u001b[0m\n",
      "\u001b[0;32m~/miniconda3/envs/matlab/lib/python3.6/site-packages/zmq/sugar/socket.py\u001b[0m in \u001b[0;36mrecv_multipart\u001b[0;34m(self, flags, copy, track)\u001b[0m\n\u001b[1;32m    474\u001b[0m         \"\"\"\n\u001b[0;32m--> 475\u001b[0;31m         \u001b[0mparts\u001b[0m \u001b[0;34m=\u001b[0m \u001b[0;34m[\u001b[0m\u001b[0mself\u001b[0m\u001b[0;34m.\u001b[0m\u001b[0mrecv\u001b[0m\u001b[0;34m(\u001b[0m\u001b[0mflags\u001b[0m\u001b[0;34m,\u001b[0m \u001b[0mcopy\u001b[0m\u001b[0;34m=\u001b[0m\u001b[0mcopy\u001b[0m\u001b[0;34m,\u001b[0m \u001b[0mtrack\u001b[0m\u001b[0;34m=\u001b[0m\u001b[0mtrack\u001b[0m\u001b[0;34m)\u001b[0m\u001b[0;34m]\u001b[0m\u001b[0;34m\u001b[0m\u001b[0;34m\u001b[0m\u001b[0m\n\u001b[0m\u001b[1;32m    476\u001b[0m         \u001b[0;31m# have first part already, only loop while more to receive\u001b[0m\u001b[0;34m\u001b[0m\u001b[0;34m\u001b[0m\u001b[0;34m\u001b[0m\u001b[0m\n",
      "\u001b[0;32mzmq/backend/cython/socket.pyx\u001b[0m in \u001b[0;36mzmq.backend.cython.socket.Socket.recv\u001b[0;34m()\u001b[0m\n",
      "\u001b[0;32mzmq/backend/cython/socket.pyx\u001b[0m in \u001b[0;36mzmq.backend.cython.socket.Socket.recv\u001b[0;34m()\u001b[0m\n",
      "\u001b[0;32mzmq/backend/cython/socket.pyx\u001b[0m in \u001b[0;36mzmq.backend.cython.socket._recv_copy\u001b[0;34m()\u001b[0m\n",
      "\u001b[0;32m~/miniconda3/envs/matlab/lib/python3.6/site-packages/zmq/backend/cython/checkrc.pxd\u001b[0m in \u001b[0;36mzmq.backend.cython.checkrc._check_rc\u001b[0;34m()\u001b[0m\n",
      "\u001b[0;31mKeyboardInterrupt\u001b[0m: ",
      "\nDuring handling of the above exception, another exception occurred:\n",
      "\u001b[0;31mKeyboardInterrupt\u001b[0m                         Traceback (most recent call last)",
      "\u001b[0;32m<ipython-input-30-f6feefdfc2ae>\u001b[0m in \u001b[0;36m<module>\u001b[0;34m\u001b[0m\n\u001b[0;32m----> 1\u001b[0;31m \u001b[0mmodel_name\u001b[0m \u001b[0;34m=\u001b[0m \u001b[0minput\u001b[0m\u001b[0;34m(\u001b[0m\u001b[0;34m\"model name?: \"\u001b[0m\u001b[0;34m)\u001b[0m\u001b[0;34m\u001b[0m\u001b[0;34m\u001b[0m\u001b[0m\n\u001b[0m\u001b[1;32m      2\u001b[0m \u001b[0minput\u001b[0m\u001b[0;34m(\u001b[0m\u001b[0;34mf\"{model_name}, ok?\"\u001b[0m\u001b[0;34m)\u001b[0m\u001b[0;34m\u001b[0m\u001b[0;34m\u001b[0m\u001b[0m\n\u001b[1;32m      3\u001b[0m \u001b[0;34m\u001b[0m\u001b[0m\n\u001b[1;32m      4\u001b[0m \u001b[0mmodel_path\u001b[0m \u001b[0;34m=\u001b[0m \u001b[0;34mf\"/home/sgillen/work/bball/models/{model_name}\"\u001b[0m\u001b[0;34m\u001b[0m\u001b[0;34m\u001b[0m\u001b[0m\n\u001b[1;32m      5\u001b[0m \u001b[0mos\u001b[0m\u001b[0;34m.\u001b[0m\u001b[0mmakedirs\u001b[0m\u001b[0;34m(\u001b[0m\u001b[0mmodel_path\u001b[0m\u001b[0;34m)\u001b[0m\u001b[0;34m\u001b[0m\u001b[0;34m\u001b[0m\u001b[0m\n",
      "\u001b[0;32m~/miniconda3/envs/matlab/lib/python3.6/site-packages/ipykernel/kernelbase.py\u001b[0m in \u001b[0;36mraw_input\u001b[0;34m(self, prompt)\u001b[0m\n\u001b[1;32m    857\u001b[0m             \u001b[0mself\u001b[0m\u001b[0;34m.\u001b[0m\u001b[0m_parent_ident\u001b[0m\u001b[0;34m,\u001b[0m\u001b[0;34m\u001b[0m\u001b[0;34m\u001b[0m\u001b[0m\n\u001b[1;32m    858\u001b[0m             \u001b[0mself\u001b[0m\u001b[0;34m.\u001b[0m\u001b[0m_parent_header\u001b[0m\u001b[0;34m,\u001b[0m\u001b[0;34m\u001b[0m\u001b[0;34m\u001b[0m\u001b[0m\n\u001b[0;32m--> 859\u001b[0;31m             \u001b[0mpassword\u001b[0m\u001b[0;34m=\u001b[0m\u001b[0;32mFalse\u001b[0m\u001b[0;34m,\u001b[0m\u001b[0;34m\u001b[0m\u001b[0;34m\u001b[0m\u001b[0m\n\u001b[0m\u001b[1;32m    860\u001b[0m         )\n\u001b[1;32m    861\u001b[0m \u001b[0;34m\u001b[0m\u001b[0m\n",
      "\u001b[0;32m~/miniconda3/envs/matlab/lib/python3.6/site-packages/ipykernel/kernelbase.py\u001b[0m in \u001b[0;36m_input_request\u001b[0;34m(self, prompt, ident, parent, password)\u001b[0m\n\u001b[1;32m    887\u001b[0m             \u001b[0;32mexcept\u001b[0m \u001b[0mKeyboardInterrupt\u001b[0m\u001b[0;34m:\u001b[0m\u001b[0;34m\u001b[0m\u001b[0;34m\u001b[0m\u001b[0m\n\u001b[1;32m    888\u001b[0m                 \u001b[0;31m# re-raise KeyboardInterrupt, to truncate traceback\u001b[0m\u001b[0;34m\u001b[0m\u001b[0;34m\u001b[0m\u001b[0;34m\u001b[0m\u001b[0m\n\u001b[0;32m--> 889\u001b[0;31m                 \u001b[0;32mraise\u001b[0m \u001b[0mKeyboardInterrupt\u001b[0m\u001b[0;34m\u001b[0m\u001b[0;34m\u001b[0m\u001b[0m\n\u001b[0m\u001b[1;32m    890\u001b[0m             \u001b[0;32melse\u001b[0m\u001b[0;34m:\u001b[0m\u001b[0;34m\u001b[0m\u001b[0;34m\u001b[0m\u001b[0m\n\u001b[1;32m    891\u001b[0m                 \u001b[0;32mbreak\u001b[0m\u001b[0;34m\u001b[0m\u001b[0;34m\u001b[0m\u001b[0m\n",
      "\u001b[0;31mKeyboardInterrupt\u001b[0m: "
     ]
    }
   ],
   "source": [
    "model_name = input(\"model name?: \")\n",
    "input(f\"{model_name}, ok?\")\n",
    "\n",
    "model_path = f\"/home/sgillen/work/bball/models/{model_name}\"\n",
    "os.makedirs(model_path)\n",
    "model.save(f\"{model_path}/model.zip\")\n",
    "pickle.dump(env_config, open(f\"{model_path}/config.pkl\", 'wb'))\n",
    "print(f\"model_path = \\\"{model_path}/model.zip\\\"\")"
   ]
  },
  {
   "cell_type": "code",
   "execution_count": 158,
   "metadata": {},
   "outputs": [
    {
     "name": "stdout",
     "output_type": "stream",
     "text": [
      "Loading a model without an environment, this model cannot be trained until it has a valid environment.\n"
     ]
    },
    {
     "name": "stderr",
     "output_type": "stream",
     "text": [
      "/home/sgillen/miniconda3/envs/matlab/lib/python3.6/site-packages/gym/logger.py:30: UserWarning: \u001b[33mWARN: Box bound precision lowered by casting to float32\u001b[0m\n",
      "  warnings.warn(colorize('%s: %s'%('WARN', msg % args), 'yellow'))\n"
     ]
    },
    {
     "name": "stdout",
     "output_type": "stream",
     "text": [
      "reward sum: 100.67078399658203\n"
     ]
    },
    {
     "data": {
      "image/png": "[encoded data removed]",
      "text/plain": [
       "<Figure size 432x288 with 1 Axes>"
      ]
     },
     "metadata": {
      "needs_background": "light"
     },
     "output_type": "display_data"
    },
    {
     "data": {
      "image/png": "[encoded data removed]",
      "text/plain": [
       "<Figure size 432x288 with 1 Axes>"
      ]
     },
     "metadata": {
      "needs_background": "light"
     },
     "output_type": "display_data"
    }
   ],
   "source": [
    "model_path = \"/home/sgillen/work/bball/models/back_ball7/model.zip\"\n",
    "model = model.load(model_path)\n",
    "\n",
    "obs_hist, act_hist, rew_hist = do_rollout_stable()\n",
    "\n",
    "\n",
    "print(f\"reward sum: {sum(rew_hist)}\")\n",
    "\n",
    "plt.step([i for i in range(act_hist.shape[0])], act_hist, 'k')\n",
    "plt.title('Actions')\n",
    "plt.xlabel('Time (seconds)')\n",
    "plt.ylabel('Torque (Nm)')\n",
    "plt.grid()\n",
    "#plt.savefig(script_path + '../figs/act_hist.png')\n",
    "plt.show(); plt.figure()\n",
    "\n",
    "plt.plot(obs_hist)\n",
    "\n",
    "plt.title('States')\n",
    "plt.xlabel('Time ticks')\n",
    "plt.ylabel('States (mixed units)')\n",
    "plt.grid()\n",
    "#plt.savefig(script_path + '../figs/obs_hist.png')\n",
    "plt.show()"
   ]
  },
  {
   "cell_type": "code",
   "execution_count": null,
   "metadata": {},
   "outputs": [],
   "source": []
  }
 ],
 "metadata": {
  "kernelspec": {
   "display_name": "Matlab",
   "language": "python",
   "name": "python3"
  },
  "language_info": {
   "codemirror_mode": {
    "name": "ipython",
    "version": 3
   },
   "file_extension": ".py",
   "mimetype": "text/x-python",
   "name": "python",
   "nbconvert_exporter": "python",
   "pygments_lexer": "ipython3",
   "version": "3.6.10"
  }
 },
 "nbformat": 4,
 "nbformat_minor": 4
}
