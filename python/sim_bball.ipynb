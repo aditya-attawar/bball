{
 "cells": [
  {
   "cell_type": "code",
   "execution_count": 1,
   "metadata": {},
   "outputs": [
    {
     "name": "stdout",
     "output_type": "stream",
     "text": [
      "running build_ext\n"
     ]
    }
   ],
   "source": [
    "import gym\n",
    "import mujoco_py as mj \n",
    "import time\n",
    "import numpy as np\n",
    "\n",
    "import pybullet as p\n",
    "import pybullet_data"
   ]
  },
  {
   "cell_type": "code",
   "execution_count": 2,
   "metadata": {},
   "outputs": [
    {
     "name": "stdout",
     "output_type": "stream",
     "text": [
      "Creating window glfw\n"
     ]
    }
   ],
   "source": [
    "model = mj.load_model_from_path('/home/sgillen/work/bball/python/assets/bball3.xml')\n",
    "sim = mj.MjSim(model)\n",
    "viewer = mj.MjViewer(sim)\n",
    "\n",
    "for i in range(1):\n",
    "    sim.step()\n",
    "    viewer.render()\n",
    "    time.sleep(.01)"
   ]
  },
  {
   "cell_type": "code",
   "execution_count": 4,
   "metadata": {},
   "outputs": [],
   "source": [
    "state = sim.get_state()\n",
    "state.qpos[0] = 1\n",
    "sim.set_state(state)"
   ]
  },
  {
   "cell_type": "code",
   "execution_count": 8,
   "metadata": {},
   "outputs": [],
   "source": [
    "#sim.data.ctrl[:] = np.ones_like(sim.data.ctrl)"
   ]
  },
  {
   "cell_type": "code",
   "execution_count": 3,
   "metadata": {},
   "outputs": [
    {
     "data": {
      "text/plain": [
       "0"
      ]
     },
     "execution_count": 3,
     "metadata": {},
     "output_type": "execute_result"
    }
   ],
   "source": [
    "p.connect(p.GUI)"
   ]
  },
  {
   "cell_type": "code",
   "execution_count": 4,
   "metadata": {},
   "outputs": [],
   "source": [
    "#plane_id = p.loadURDF(pybullet_data.getDataPath() + \"/plane.urdf\")\n",
    "world_id, arm_id, ball_id = p.loadMJCF('/home/sgillen/work/bball/python/assets/bball3.xml',  flags=p.URDF_USE_SELF_COLLISION | p.URDF_USE_SELF_COLLISION_EXCLUDE_ALL_PARENTS)\n",
    "\n",
    "#world_id, arm_id, ball_id = p.loadMJCF('/home/sgillen/work/bball/python/assets/bball3.xml')\n",
    "p.setGravity(0,-9.8,0.0)\n",
    "\n",
    "def set_motors_zero(body_id):\n",
    "    p.setJointMotorControlArray(body_id,\n",
    "                                 [i for i in range(p.getNumJoints(body_id))],\n",
    "                                 p.POSITION_CONTROL,\n",
    "                                 #positionGain=0.1,\n",
    "                                 #velocityGain=0.1,\n",
    "                                 forces=[0 for _ in range(p.getNumJoints(body_id))]\n",
    "                               )\n",
    "    \n"
   ]
  },
  {
   "cell_type": "code",
   "execution_count": 4,
   "metadata": {},
   "outputs": [],
   "source": [
    "p.resetBasePositionAndOrientation(ball_id,[0,10,0],[0,0,0,1.0])\n",
    "set_motors_zero(arm_id)\n",
    "set_motors_zero(ball_id)\n",
    "\n",
    "p.setRealTimeSimulation(1)\n"
   ]
  },
  {
   "cell_type": "code",
   "execution_count": 26,
   "metadata": {},
   "outputs": [],
   "source": [
    "motor_joints = [0, 2, 4]\n",
    "arm_states = p.getJointStates(env.arm_id, motor_joints)\n",
    "ball_states = p.getJointStates(env.ball_id, [0,1])\n",
    "\n",
    "\n",
    "pos = np.zeros(5)\n",
    "vel = np.zeros(5)\n",
    "\n",
    "for i in [0,1,2]:\n",
    "    pos[i] = arm_states[i][0]\n",
    "    vel[i] = arm_states[i][1]\n",
    "\n",
    "for i in [0,1]:\n",
    "    pos[i+3] = ball_states[i][0]\n",
    "    vel[i+3] = ball_states[i][1]\n",
    "    \n",
    "    \n",
    "\n",
    "\n",
    "obs = np.concatenate ((pos,vel))\n",
    "\n",
    "    "
   ]
  },
  {
   "cell_type": "code",
   "execution_count": 6,
   "metadata": {},
   "outputs": [],
   "source": [
    "for i in range(p.getNumJoints(env.arm_id)):\n",
    "               p.getJointInfo(env.arm_id, 0)"
   ]
  },
  {
   "cell_type": "code",
   "execution_count": 9,
   "metadata": {},
   "outputs": [],
   "source": [
    "p.resetJointState(env.arm_id, 4, -np.pi/4)"
   ]
  },
  {
   "cell_type": "code",
   "execution_count": 10,
   "metadata": {},
   "outputs": [],
   "source": [
    "p.setRealTimeSimulation(1)"
   ]
  },
  {
   "cell_type": "code",
   "execution_count": 9,
   "metadata": {},
   "outputs": [],
   "source": [
    "p.resetBasePositionAndOrientation(env.ball_id, [0, 0, 0], [0, 0, 0, 1.0])"
   ]
  },
  {
   "cell_type": "code",
   "execution_count": 21,
   "metadata": {},
   "outputs": [],
   "source": [
    "ball_state = p.getJointStates(env.ball_id, [0,1])\n"
   ]
  },
  {
   "cell_type": "code",
   "execution_count": 13,
   "metadata": {},
   "outputs": [],
   "source": []
  },
  {
   "cell_type": "code",
   "execution_count": null,
   "metadata": {},
   "outputs": [],
   "source": []
  }
 ],
 "metadata": {
  "kernelspec": {
   "display_name": "Matlab",
   "language": "python",
   "name": "python3"
  },
  "language_info": {
   "codemirror_mode": {
    "name": "ipython",
    "version": 3
   },
   "file_extension": ".py",
   "mimetype": "text/x-python",
   "name": "python",
   "nbconvert_exporter": "python",
   "pygments_lexer": "ipython3",
   "version": "3.6.10"
  }
 },
 "nbformat": 4,
 "nbformat_minor": 4
}
