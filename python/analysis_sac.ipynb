{
 "cells": [
  {
   "cell_type": "code",
   "execution_count": 47,
   "metadata": {},
   "outputs": [],
   "source": [
    "import os\n",
    "import torch\n",
    "import matplotlib.pyplot as plt\n",
    "from bball3_env import BBall3Env\n",
    "import numpy as np\n",
    "\n",
    "\n",
    "\n",
    "def do_rollout(init_point=None, render=False, video=False):\n",
    "    #env = gym.make(env_name, **env_config)\n",
    "    torch.autograd.set_grad_enabled(False)\n",
    "    obs = env.reset()\n",
    "    obs = torch.as_tensor(obs, dtype=torch.float32)\n",
    "\n",
    "    acts_list = []\n",
    "    obs1_list = []\n",
    "    rews_list = []\n",
    "\n",
    "    dtype = torch.float32\n",
    "    act_size = env.action_space.shape[0]\n",
    "    obs_size = env.observation_space.shape[0]\n",
    "\n",
    "    done = False\n",
    "    cur_step = 0\n",
    "\n",
    "    while not done:\n",
    "        acts = agent.model.select_action(obs, np.zeros((1,act_size)))[0]\n",
    "        obs, rew, done, out = env.step(acts)\n",
    "          \n",
    "        obs1_list.append(obs)\n",
    "        obs = torch.as_tensor(obs, dtype=dtype)\n",
    "\n",
    "        acts_list.append(torch.as_tensor(acts))\n",
    "        rews_list.append(torch.as_tensor(rew, dtype=dtype))\n",
    "        cur_step += 1\n",
    "\n",
    "    ep_obs1 = torch.tensor(obs1_list)\n",
    "    ep_acts = torch.stack(acts_list)\n",
    "    ep_rews = torch.stack(rews_list)\n",
    "    torch.autograd.set_grad_enabled(True)\n",
    "\n",
    "    return ep_obs1, ep_acts, ep_rews"
   ]
  },
  {
   "cell_type": "code",
   "execution_count": 48,
   "metadata": {},
   "outputs": [],
   "source": [
    "#bball/python/data_sac/tn0/seed3066375725/reward_fn.py\n",
    "trial_dir = \"/home/sgillen/work/bball/python/data_sac/tn0\"\n",
    "agent_list = []\n",
    "for entry in os.scandir(trial_dir):\n",
    "    exec(open(entry.path + \"/reward_fn.py\").read()) # reward_fn defined here\n",
    "    agent = torch.load(entry.path + \"/agent.ag\")\n",
    "    agent_list.append(agent)\n",
    "    \n",
    "env = BBall3Env(**agent.env_config)"
   ]
  },
  {
   "cell_type": "code",
   "execution_count": 35,
   "metadata": {},
   "outputs": [
    {
     "data": {
      "image/png": "[encoded data removed]",
      "text/plain": [
       "<Figure size 432x288 with 1 Axes>"
      ]
     },
     "metadata": {
      "needs_background": "light"
     },
     "output_type": "display_data"
    }
   ],
   "source": [
    "for agent in agent_list:\n",
    "    plt.plot(agent.raw_rew_hist)\n",
    "    \n",
    "    \n",
    "# min_length = int(min_length)\n",
    "# rewards = np.zeros((min_length, len(ws_list)))\n",
    "# for i, ws in enumerate(ws_list):\n",
    "#     rewards[:, i] = np.array(ws[\"raw_rew_hist\"][:min_length])"
   ]
  },
  {
   "cell_type": "code",
   "execution_count": 55,
   "metadata": {},
   "outputs": [],
   "source": [
    "obs_hist, act_hist, rew_hist = do_rollout()"
   ]
  },
  {
   "cell_type": "code",
   "execution_count": 58,
   "metadata": {},
   "outputs": [],
   "source": [
    "env.eng.clf()\n",
    "obs_list = []\n",
    "for obs in obs_hist:\n",
    "    obs_list.append(obs.tolist())\n",
    "import matlab\n",
    "tout = matlab.single([float(i) for i in range(obs_hist.shape[0])])\n",
    "env.animate(tout,matlab.single(obs_list))"
   ]
  },
  {
   "cell_type": "code",
   "execution_count": null,
   "metadata": {},
   "outputs": [],
   "source": []
  },
  {
   "cell_type": "code",
   "execution_count": null,
   "metadata": {},
   "outputs": [],
   "source": []
  }
 ],
 "metadata": {
  "kernelspec": {
   "display_name": "Matlab",
   "language": "python",
   "name": "python3"
  },
  "language_info": {
   "codemirror_mode": {
    "name": "ipython",
    "version": 3
   },
   "file_extension": ".py",
   "mimetype": "text/x-python",
   "name": "python",
   "nbconvert_exporter": "python",
   "pygments_lexer": "ipython3",
   "version": "3.6.10"
  }
 },
 "nbformat": 4,
 "nbformat_minor": 4
}
