{
 "cells": [
  {
   "cell_type": "code",
   "execution_count": 1,
   "metadata": {},
   "outputs": [
    {
     "name": "stderr",
     "output_type": "stream",
     "text": [
      "/home/sgillen/work/seagul/seagul/envs/__init__.py:55: UserWarning: Warning, pybullet envs not installed\n",
      "  warnings.warn(\"Warning, pybullet envs not installed\")\n",
      "/home/sgillen/work/seagul/seagul/envs/__init__.py:131: UserWarning: Warning, rllib environments not registered\n",
      "  warnings.warn(\"Warning, rllib environments not registered\")\n"
     ]
    },
    {
     "name": "stdout",
     "output_type": "stream",
     "text": [
      "running build_ext\n"
     ]
    }
   ],
   "source": [
    "import os\n",
    "import torch\n",
    "import matplotlib.pyplot as plt\n",
    "from bball3_env import BBall3Env\n",
    "from bball3_mj_env import BBall3MJEnv\n",
    "import numpy as np\n",
    "import time\n",
    "\n",
    "torch.set_default_dtype(torch.float32)\n",
    "def do_rollout(init_point=None, render=False, video=False):\n",
    "    #env = gym.make(env_name, **env_config)\n",
    "    torch.autograd.set_grad_enabled(False)\n",
    "    obs = env.reset()\n",
    "    obs = torch.as_tensor(obs, dtype=torch.float32)\n",
    "\n",
    "    acts_list = []\n",
    "    obs1_list = []\n",
    "    rews_list = []\n",
    "\n",
    "    dtype = torch.float32\n",
    "    act_size = env.action_space.shape[0]\n",
    "    obs_size = env.observation_space.shape[0]\n",
    "\n",
    "    done = False\n",
    "    cur_step = 0\n",
    "\n",
    "    while not done:\n",
    "        acts, _  = agent.model.select_action(obs.reshape(1,-1), np.zeros((1,act_size)))\n",
    "        #import ipdb; ipdb.set_trace()\n",
    "        obs, rew, done, out = env.step(acts.numpy())\n",
    "          \n",
    "        if render:\n",
    "            env.render()\n",
    "            time.sleep(.01)\n",
    "            \n",
    "        obs1_list.append(obs)\n",
    "        obs = torch.as_tensor(obs, dtype=dtype)\n",
    "\n",
    "        acts_list.append(torch.as_tensor(acts.squeeze()))\n",
    "        rews_list.append(torch.as_tensor(rew, dtype=dtype))\n",
    "        cur_step += 1\n",
    "\n",
    "    ep_obs1 = torch.tensor(obs1_list)\n",
    "    ep_acts = torch.stack(acts_list)\n",
    "    ep_rews = torch.stack(rews_list)\n",
    "    torch.autograd.set_grad_enabled(True)\n",
    "\n",
    "    return ep_obs1, ep_acts, ep_rews"
   ]
  },
  {
   "cell_type": "code",
   "execution_count": 6,
   "metadata": {},
   "outputs": [],
   "source": [
    "#bball/python/data_sac/tn0/seed3066375725/reward_fn.py\n",
    "trial_dir = \"/home/sgillen/work/bball/python/data_sac/mj_infu_long\"\n",
    "agent_list = []\n",
    "for entry in os.scandir(trial_dir):\n",
    "    exec(open(entry.path + \"/reward_fn.py\").read()) # reward_fn defined here\n",
    "    agent = torch.load(entry.path + \"/agent.ag\")\n",
    "    agent_list.append(agent)\n",
    "    \n",
    "env = BBall3MJEnv(**agent.env_config)"
   ]
  },
  {
   "cell_type": "code",
   "execution_count": 7,
   "metadata": {},
   "outputs": [
    {
     "data": {
      "image/png": "[encoded data removed]",
      "text/plain": [
       "<Figure size 432x288 with 1 Axes>"
      ]
     },
     "metadata": {
      "needs_background": "light"
     },
     "output_type": "display_data"
    }
   ],
   "source": [
    "for agent in agent_list:\n",
    "    plt.plot(agent.raw_rew_hist)\n",
    "    \n",
    "# min_length = int(min_length)\n",
    "# rewards = np.zeros((min_length, len(ws_list)))\n",
    "# for i, ws in enumerate(ws_list):\n",
    "#     rewards[:, i] = np.array(ws[\"raw_rew_hist\"][:min_length])"
   ]
  },
  {
   "cell_type": "code",
   "execution_count": null,
   "metadata": {},
   "outputs": [
    {
     "name": "stdout",
     "output_type": "stream",
     "text": [
      "> \u001b[0;32m<ipython-input-1-1ac530d5efb5>\u001b[0m(30)\u001b[0;36mdo_rollout\u001b[0;34m()\u001b[0m\n",
      "\u001b[0;32m     29 \u001b[0;31m        \u001b[0;32mimport\u001b[0m \u001b[0mipdb\u001b[0m\u001b[0;34m;\u001b[0m \u001b[0mipdb\u001b[0m\u001b[0;34m.\u001b[0m\u001b[0mset_trace\u001b[0m\u001b[0;34m(\u001b[0m\u001b[0;34m)\u001b[0m\u001b[0;34m\u001b[0m\u001b[0;34m\u001b[0m\u001b[0m\n",
      "\u001b[0m\u001b[0;32m---> 30 \u001b[0;31m        \u001b[0mobs\u001b[0m\u001b[0;34m,\u001b[0m \u001b[0mrew\u001b[0m\u001b[0;34m,\u001b[0m \u001b[0mdone\u001b[0m\u001b[0;34m,\u001b[0m \u001b[0mout\u001b[0m \u001b[0;34m=\u001b[0m \u001b[0menv\u001b[0m\u001b[0;34m.\u001b[0m\u001b[0mstep\u001b[0m\u001b[0;34m(\u001b[0m\u001b[0macts\u001b[0m\u001b[0;34m.\u001b[0m\u001b[0mnumpy\u001b[0m\u001b[0;34m(\u001b[0m\u001b[0;34m)\u001b[0m\u001b[0;34m)\u001b[0m\u001b[0;34m\u001b[0m\u001b[0;34m\u001b[0m\u001b[0m\n",
      "\u001b[0m\u001b[0;32m     31 \u001b[0;31m\u001b[0;34m\u001b[0m\u001b[0m\n",
      "\u001b[0m\n",
      "--KeyboardInterrupt--\n",
      "--KeyboardInterrupt--\n",
      "--KeyboardInterrupt--\n",
      "--KeyboardInterrupt--\n"
     ]
    }
   ],
   "source": [
    "obs_hist, act_hist, rew_hist = do_rollout(render=True)\n",
    "\n",
    "print(f\"reward sum: {sum(rew_hist)}\")\n",
    "\n",
    "plt.step([i for i in range(act_hist.shape[0])], act_hist, 'k')\n",
    "plt.title('Actions')\n",
    "plt.xlabel('Time (seconds)')\n",
    "plt.ylabel('Torque (Nm)')\n",
    "plt.grid()\n",
    "#plt.savefig(script_path + '../figs/act_hist.png')\n",
    "plt.show(); plt.figure()\n",
    "\n",
    "plt.plot(obs_hist)\n",
    "\n",
    "plt.title('States')\n",
    "plt.xlabel('Time ticks')\n",
    "plt.ylabel('States (mixed units)')\n",
    "plt.grid()\n",
    "#plt.savefig(script_path + '../figs/obs_hist.png')\n",
    "plt.show()"
   ]
  },
  {
   "cell_type": "code",
   "execution_count": null,
   "metadata": {},
   "outputs": [],
   "source": [
    "env.eng.clf()\n",
    "obs_list = []\n",
    "for obs in obs_hist:\n",
    "    obs_list.append(obs.tolist())\n",
    "import matlab\n",
    "tout = matlab.single([float(i) for i in range(obs_hist.shape[0])])\n",
    "env.animate(tout,matlab.single(obs_list))"
   ]
  },
  {
   "cell_type": "code",
   "execution_count": null,
   "metadata": {},
   "outputs": [],
   "source": []
  },
  {
   "cell_type": "code",
   "execution_count": null,
   "metadata": {},
   "outputs": [],
   "source": []
  }
 ],
 "metadata": {
  "kernelspec": {
   "display_name": "Matlab",
   "language": "python",
   "name": "python3"
  },
  "language_info": {
   "codemirror_mode": {
    "name": "ipython",
    "version": 3
   },
   "file_extension": ".py",
   "mimetype": "text/x-python",
   "name": "python",
   "nbconvert_exporter": "python",
   "pygments_lexer": "ipython3",
   "version": "3.6.10"
  }
 },
 "nbformat": 4,
 "nbformat_minor": 4
}
