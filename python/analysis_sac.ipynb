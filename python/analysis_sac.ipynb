{
 "cells": [
  {
   "cell_type": "code",
   "execution_count": null,
   "metadata": {},
   "outputs": [],
   "source": [
    "model, env, args, ws = load_workspace(script_path + \"data_needle/50k_slow_longer/trial3738150792--3-11_18-0\")\n",
    "env_name = ws['env_name']\n",
    "config = ws['env_config']\n",
    "\n",
    "\n",
    "def load_trials(trial_dir):\n",
    "    directory = script_path + trial_dir\n",
    "\n",
    "    ws_list = []\n",
    "    model_list = []\n",
    "    min_length = float('inf')\n",
    "    for entry in os.scandir(directory):\n",
    "        model, env, args, ws = load_workspace(entry.path)\n",
    "\n",
    "        if len(ws[\"raw_rew_hist\"]) < min_length:\n",
    "            min_length = len(ws[\"raw_rew_hist\"])\n",
    "\n",
    "        ws_list.append(ws)\n",
    "        model_list.append(model)\n",
    "\n",
    "    min_length = int(min_length)\n",
    "    rewards = np.zeros((min_length, len(ws_list)))\n",
    "    for i, ws in enumerate(ws_list):\n",
    "        rewards[:, i] = np.array(ws[\"raw_rew_hist\"][:min_length])\n",
    "\n",
    "    return ws_list, model_list, rewards\n"
   ]
  }
 ],
 "metadata": {
  "kernelspec": {
   "display_name": "Matlab",
   "language": "python",
   "name": "python3"
  },
  "language_info": {
   "codemirror_mode": {
    "name": "ipython",
    "version": 3
   },
   "file_extension": ".py",
   "mimetype": "text/x-python",
   "name": "python",
   "nbconvert_exporter": "python",
   "pygments_lexer": "ipython3",
   "version": "3.6.10"
  }
 },
 "nbformat": 4,
 "nbformat_minor": 4
}
