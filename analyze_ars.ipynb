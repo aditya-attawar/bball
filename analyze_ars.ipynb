{
 "cells": [
  {
   "cell_type": "code",
   "execution_count": 31,
   "metadata": {},
   "outputs": [],
   "source": [
    "from seagul.rl.ars.ars_pipe2 import ARSAgent\n",
    "from seagul.plot import smooth_bounded_curve\n",
    "import seagul.envs\n",
    "\n",
    "import os\n",
    "import pickle\n",
    "import torch\n",
    "import gym\n",
    "import numpy as np \n",
    "\n",
    "env_name = \"bball3-v0\"\n",
    "\n",
    "def do_rollout_ars(policy):\n",
    "    torch.autograd.set_grad_enabled(False)\n",
    "    env = gym.make(env_name, **env_config)\n",
    "    obs = env.reset()\n",
    "\n",
    "    obs = torch.as_tensor(obs, dtype=torch.float32)\n",
    "\n",
    "    acts_list = []\n",
    "    obs1_list = []\n",
    "    rews_list = []\n",
    "\n",
    "    dtype = torch.float32\n",
    "    act_size = env.action_space.shape[0]\n",
    "    obs_size = env.observation_space.shape[0]\n",
    "\n",
    "    done = False\n",
    "    cur_step = 0\n",
    "\n",
    "    while not done:\n",
    "        acts = policy(obs)\n",
    "        obs, rew, done, out = env.step(acts)\n",
    "          \n",
    "        obs1_list.append(obs)\n",
    "        obs = torch.as_tensor(obs, dtype=dtype)\n",
    "\n",
    "        acts_list.append(torch.as_tensor(acts))\n",
    "        rews_list.append(torch.as_tensor(rew, dtype=dtype))\n",
    "        cur_step += 1\n",
    "\n",
    "    ep_obs1 = torch.tensor(obs1_list)\n",
    "    ep_acts = torch.stack(acts_list)\n",
    "    ep_rews = torch.stack(rews_list)\n",
    "\n",
    "    torch.autograd.set_grad_enabled(True)\n",
    "    return ep_obs1, ep_acts, ep_rews"
   ]
  },
  {
   "cell_type": "code",
   "execution_count": 38,
   "metadata": {},
   "outputs": [],
   "source": [
    "trial_path = \"/home/sgillen/work/bball/data_ars/xpen\"\n",
    "agent_list = [] \n",
    "r_list = [] \n",
    "\n",
    "def reward_fn(state, action):\n",
    "    xpen = np.clip(-(state[4] - .45)**2, -1, 0)\n",
    "    #ypen = np.clip(-(state[5] - 2)**2, -1, 0)\n",
    "    ypen = 0.0\n",
    "    alive = 2.0\n",
    "    return xpen + ypen + alive\n",
    "\n",
    "\n",
    "for entry in os.scandir(trial_path):\n",
    "    if \".ipynb\" in entry.path:\n",
    "        continue\n",
    "    if \"config\" in entry.path:\n",
    "        env_config = pickle.load(open(entry.path, 'rb'))\n",
    "        continue\n",
    "        \n",
    "    agent_list.append(torch.load(entry.path))\n",
    "    r_list.append(torch.stack(agent_list[-1].r_hist))\n",
    "\n",
    "    \n",
    "env = gym.make(env_name, **env_config)"
   ]
  },
  {
   "cell_type": "code",
   "execution_count": 39,
   "metadata": {},
   "outputs": [
    {
     "data": {
      "text/plain": [
       "(<Figure size 432x288 with 1 Axes>,\n",
       " <matplotlib.axes._subplots.AxesSubplot at 0x7f49aef6b860>)"
      ]
     },
     "execution_count": 39,
     "metadata": {},
     "output_type": "execute_result"
    },
    {
     "data": {
      "image/png": "[encoded data removed]",
      "text/plain": [
       "<Figure size 432x288 with 1 Axes>"
      ]
     },
     "metadata": {
      "needs_background": "light"
     },
     "output_type": "display_data"
    }
   ],
   "source": [
    "smooth_bounded_curve(torch.stack(r_list).T)"
   ]
  },
  {
   "cell_type": "code",
   "execution_count": 40,
   "metadata": {},
   "outputs": [
    {
     "name": "stderr",
     "output_type": "stream",
     "text": [
      "/home/sgillen/miniconda3/envs/matlab/lib/python3.6/site-packages/gym/logger.py:30: UserWarning: \u001b[33mWARN: Box bound precision lowered by casting to float32\u001b[0m\n",
      "  warnings.warn(colorize('%s: %s'%('WARN', msg % args), 'yellow'))\n"
     ]
    }
   ],
   "source": [
    "obs, acts, rews = do_rollout_ars(agent_list[0].policy)"
   ]
  },
  {
   "cell_type": "code",
   "execution_count": 43,
   "metadata": {},
   "outputs": [],
   "source": [
    "obs_list = []\n",
    "for o in obs:\n",
    "    obs_list.append(o.tolist())\n",
    "import matlab\n",
    "tout = matlab.single([float(i) for i in range(obs.shape[0])])\n",
    "env.animate(tout,matlab.single(obs_list))"
   ]
  },
  {
   "cell_type": "code",
   "execution_count": null,
   "metadata": {},
   "outputs": [],
   "source": []
  }
 ],
 "metadata": {
  "kernelspec": {
   "display_name": "Matlab",
   "language": "python",
   "name": "python3"
  },
  "language_info": {
   "codemirror_mode": {
    "name": "ipython",
    "version": 3
   },
   "file_extension": ".py",
   "mimetype": "text/x-python",
   "name": "python",
   "nbconvert_exporter": "python",
   "pygments_lexer": "ipython3",
   "version": "3.6.10"
  }
 },
 "nbformat": 4,
 "nbformat_minor": 4
}
